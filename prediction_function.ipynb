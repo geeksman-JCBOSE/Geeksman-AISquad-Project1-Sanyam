{
  "nbformat": 4,
  "nbformat_minor": 0,
  "metadata": {
    "colab": {
      "name": "prediction_function.ipynb",
      "provenance": [],
      "mount_file_id": "1uRi64cqxkvN3YL8lOX6RnWDbTCld-sXC",
      "authorship_tag": "ABX9TyPbhBk2yVRFZ1FPJa6EWNBZ",
      "include_colab_link": true
    },
    "kernelspec": {
      "name": "python3",
      "display_name": "Python 3"
    }
  },
  "cells": [
    {
      "cell_type": "markdown",
      "metadata": {
        "id": "view-in-github",
        "colab_type": "text"
      },
      "source": [
        "<a href=\"https://colab.research.google.com/github/sanyam1992000/anime-faces-vs-human-faces/blob/master/prediction_function.ipynb\" target=\"_parent\"><img src=\"https://colab.research.google.com/assets/colab-badge.svg\" alt=\"Open In Colab\"/></a>"
      ]
    },
    {
      "cell_type": "code",
      "metadata": {
        "id": "2uq9engo12NL",
        "colab_type": "code",
        "colab": {}
      },
      "source": [
        "%reload_ext autoreload\n",
        "%autoreload 2\n",
        "%matplotlib inline\n",
        "\n",
        "import warnings\n",
        "warnings.filterwarnings(\"ignore\")"
      ],
      "execution_count": 1,
      "outputs": []
    },
    {
      "cell_type": "code",
      "metadata": {
        "id": "oQoqgE8k195e",
        "colab_type": "code",
        "colab": {}
      },
      "source": [
        "import os\n",
        "from fastai.vision import *\n",
        "from fastai.metrics import error_rate"
      ],
      "execution_count": 2,
      "outputs": []
    },
    {
      "cell_type": "code",
      "metadata": {
        "id": "2rzWOSiE2AAD",
        "colab_type": "code",
        "colab": {}
      },
      "source": [
        "dir = '/content/drive/My Drive/dl_projects/anime_faces_vs_human_faces'\n",
        "predictor = load_learner(dir)"
      ],
      "execution_count": 4,
      "outputs": []
    },
    {
      "cell_type": "code",
      "metadata": {
        "id": "3LO6cmsk2GO4",
        "colab_type": "code",
        "colab": {}
      },
      "source": [
        "def my_predictor(im):\n",
        "  test_img = open_image(im)\n",
        "  pred_class,pred_idx,outputs = predictor.predict(test_img)\n",
        "  return pred_class"
      ],
      "execution_count": 5,
      "outputs": []
    },
    {
      "cell_type": "code",
      "metadata": {
        "id": "D0OMj20Z2NUa",
        "colab_type": "code",
        "colab": {}
      },
      "source": [
        "from google.colab import files\n",
        "my_file = files.upload()"
      ],
      "execution_count": null,
      "outputs": []
    },
    {
      "cell_type": "code",
      "metadata": {
        "id": "P5pGQWW82QJJ",
        "colab_type": "code",
        "colab": {}
      },
      "source": [
        "path = list(my_file.keys())\n",
        "for i in path:\n",
        "  img = open_image(i)\n",
        "  img.show()\n",
        "  print(my_predictor(i))"
      ],
      "execution_count": null,
      "outputs": []
    },
    {
      "cell_type": "code",
      "metadata": {
        "id": "nWIVkJ5Z2jX9",
        "colab_type": "code",
        "colab": {}
      },
      "source": [
        ""
      ],
      "execution_count": null,
      "outputs": []
    }
  ]
}